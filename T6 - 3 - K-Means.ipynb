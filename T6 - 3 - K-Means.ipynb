{
 "cells": [
  {
   "cell_type": "markdown",
   "metadata": {},
   "source": [
    "# El método de k-means"
   ]
  },
  {
   "cell_type": "code",
   "execution_count": 1,
   "metadata": {},
   "outputs": [],
   "source": [
    "import numpy as np"
   ]
  },
  {
   "cell_type": "code",
   "execution_count": 2,
   "metadata": {},
   "outputs": [
    {
     "data": {
      "text/plain": [
       "array([[0.05881667, 0.07666378, 0.02304611],\n",
       "       [0.34705857, 0.19736988, 0.60310956],\n",
       "       [0.43985037, 0.12758588, 0.33329056],\n",
       "       [0.89541909, 0.17852092, 0.99962573],\n",
       "       [0.35696521, 0.98047957, 0.99490735],\n",
       "       [0.92727395, 0.56100926, 0.22274138],\n",
       "       [0.91362336, 0.93143126, 0.96201284],\n",
       "       [0.7623531 , 0.83212179, 0.13197637],\n",
       "       [0.74820801, 0.56205758, 0.40430671],\n",
       "       [0.59374375, 0.32386755, 0.54185391],\n",
       "       [0.91070908, 0.59813975, 0.03473574],\n",
       "       [0.34877823, 0.34017292, 0.99035332],\n",
       "       [0.80454195, 0.73766039, 0.59540862],\n",
       "       [0.42006499, 0.43540735, 0.44883262],\n",
       "       [0.16616708, 0.81267619, 0.06690349],\n",
       "       [0.09348819, 0.69561987, 0.55469158],\n",
       "       [0.5870353 , 0.4329311 , 0.74643704],\n",
       "       [0.68547385, 0.62323495, 0.26939628],\n",
       "       [0.49639073, 0.60443411, 0.44358784],\n",
       "       [0.80112162, 0.03234293, 0.10647002],\n",
       "       [0.83110358, 0.2362557 , 0.83946473],\n",
       "       [0.6420801 , 0.30607862, 0.42329017],\n",
       "       [0.71118986, 0.04978351, 0.85896422],\n",
       "       [0.72778013, 0.76596322, 0.43289326],\n",
       "       [0.395279  , 0.88733254, 0.05676511],\n",
       "       [0.51175462, 0.44695579, 0.70902534],\n",
       "       [0.34348273, 0.48700829, 0.39322465],\n",
       "       [0.85530746, 0.75945522, 0.13013636],\n",
       "       [0.19764036, 0.63519989, 0.06489914],\n",
       "       [0.53626394, 0.04996763, 0.87396574]])"
      ]
     },
     "execution_count": 2,
     "metadata": {},
     "output_type": "execute_result"
    }
   ],
   "source": [
    "data = np.random.random(90).reshape(30,3)\n",
    "data"
   ]
  },
  {
   "cell_type": "code",
   "execution_count": 3,
   "metadata": {},
   "outputs": [
    {
     "data": {
      "text/plain": [
       "array([[0.92727395, 0.56100926, 0.22274138],\n",
       "       [0.74820801, 0.56205758, 0.40430671]])"
      ]
     },
     "execution_count": 3,
     "metadata": {},
     "output_type": "execute_result"
    }
   ],
   "source": [
    "c1 = np.random.choice(range(len(data)))\n",
    "c2 = np.random.choice(range(len(data)))\n",
    "clust_centers = np.vstack([data[c1], data[c2]])\n",
    "clust_centers"
   ]
  },
  {
   "cell_type": "code",
   "execution_count": 4,
   "metadata": {},
   "outputs": [],
   "source": [
    "from scipy.cluster.vq import vq"
   ]
  },
  {
   "cell_type": "code",
   "execution_count": 5,
   "metadata": {},
   "outputs": [
    {
     "data": {
      "text/plain": [
       "(array([1, 1, 1, 1, 1, 0, 1, 0, 1, 1, 0, 1, 1, 1, 1, 1, 1, 1, 1, 0, 1, 1,\n",
       "        1, 1, 1, 1, 1, 0, 1, 1], dtype=int32),\n",
       " array([0.92532546, 0.57744313, 0.53748804, 0.72330921, 0.82277397,\n",
       "        0.        , 0.68908293, 0.33005936, 0.        , 0.3154567 ,\n",
       "        0.19235173, 0.74312018, 0.26557447, 0.35454292, 0.71792915,\n",
       "        0.68491791, 0.39962914, 0.16086973, 0.25836161, 0.55580709,\n",
       "        0.54989185, 0.27775661, 0.68593624, 0.20691061, 0.59257729,\n",
       "        0.40250723, 0.41177392, 0.23051174, 0.65090095, 0.72645442]))"
      ]
     },
     "execution_count": 5,
     "metadata": {},
     "output_type": "execute_result"
    }
   ],
   "source": [
    "clusters = vq(data, clust_centers)\n",
    "clusters"
   ]
  },
  {
   "cell_type": "code",
   "execution_count": 6,
   "metadata": {},
   "outputs": [
    {
     "data": {
      "text/plain": [
       "array([1, 1, 1, 1, 1, 0, 1, 0, 1, 1, 0, 1, 1, 1, 1, 1, 1, 1, 1, 0, 1, 1,\n",
       "       1, 1, 1, 1, 1, 0, 1, 1], dtype=int32)"
      ]
     },
     "execution_count": 6,
     "metadata": {},
     "output_type": "execute_result"
    }
   ],
   "source": [
    "labels = clusters[0]\n",
    "labels"
   ]
  },
  {
   "cell_type": "code",
   "execution_count": 10,
   "metadata": {},
   "outputs": [],
   "source": [
    "import chart_studio.plotly as py\n",
    "import plotly.graph_objs as go\n",
    "import plotly.offline as ply"
   ]
  },
  {
   "cell_type": "code",
   "execution_count": 11,
   "metadata": {},
   "outputs": [
    {
     "name": "stderr",
     "output_type": "stream",
     "text": [
      "/opt/anaconda3/lib/python3.7/site-packages/plotly/offline/offline.py:563: UserWarning:\n",
      "\n",
      "Your filename `Clusters` didn't end with .html. Adding .html to the end of your file.\n",
      "\n"
     ]
    },
    {
     "data": {
      "text/plain": [
       "'Clusters.html'"
      ]
     },
     "execution_count": 11,
     "metadata": {},
     "output_type": "execute_result"
    }
   ],
   "source": [
    "x = []\n",
    "y = []\n",
    "z = []\n",
    "x2 = []\n",
    "y2 = []\n",
    "z2 = []\n",
    "\n",
    "for i in range(0, len(labels)):\n",
    "    if(labels[i] == 0):\n",
    "        x.append(data[i,0])\n",
    "        y.append(data[i,1])\n",
    "        z.append(data[i,2])\n",
    "        \n",
    "    else:\n",
    "        x2.append(data[i,0])\n",
    "        y2.append(data[i,1])\n",
    "        z2.append(data[i,2])\n",
    "\n",
    "cluster1 = go.Scatter3d(\n",
    "    x=x,\n",
    "    y=y,\n",
    "    z=z,\n",
    "    mode='markers',\n",
    "    marker=dict(\n",
    "        size=12,\n",
    "        line=dict(\n",
    "            color='rgba(217, 217, 217, 0.14)',\n",
    "            width=0.5\n",
    "        ),\n",
    "        opacity=0.9\n",
    "    ),\n",
    "    name=\"Cluster 0\"\n",
    ")\n",
    "\n",
    "\n",
    "cluster2 = go.Scatter3d(\n",
    "    x=x2,\n",
    "    y=y2,\n",
    "    z=z2,\n",
    "    mode='markers',\n",
    "    marker=dict(\n",
    "        color='rgb(127, 127, 127)',\n",
    "        size=12,\n",
    "        symbol='circle',\n",
    "        line=dict(\n",
    "            color='rgb(204, 204, 204)',\n",
    "            width=1\n",
    "        ),\n",
    "        opacity=0.9\n",
    "    ),\n",
    "    name=\"Cluster 1\"\n",
    ")\n",
    "data2 = [cluster1, cluster2]\n",
    "layout = go.Layout(\n",
    "    margin=dict(\n",
    "        l=0,\n",
    "        r=0,\n",
    "        b=0,\n",
    "        t=30\n",
    "    )\n",
    ")\n",
    "\n",
    "fig = go.Figure(data=data2, layout=layout)\n",
    "ply.plot(fig, filename='Clusters')\n"
   ]
  },
  {
   "cell_type": "code",
   "execution_count": 12,
   "metadata": {},
   "outputs": [],
   "source": [
    "from scipy.cluster.vq import kmeans"
   ]
  },
  {
   "cell_type": "code",
   "execution_count": 13,
   "metadata": {},
   "outputs": [
    {
     "data": {
      "text/plain": [
       "(array([[0.59480931, 0.5962024 , 0.18368137],\n",
       "        [0.55155552, 0.40924095, 0.69814459]]),\n",
       " 0.3813315738289043)"
      ]
     },
     "execution_count": 13,
     "metadata": {},
     "output_type": "execute_result"
    }
   ],
   "source": [
    "kmeans(data, clust_centers)"
   ]
  },
  {
   "cell_type": "code",
   "execution_count": 14,
   "metadata": {},
   "outputs": [
    {
     "data": {
      "text/plain": [
       "(array([[0.48231845, 0.33529177, 0.64588016],\n",
       "        [0.67084783, 0.66736136, 0.28015951]]),\n",
       " 0.3724574551672519)"
      ]
     },
     "execution_count": 14,
     "metadata": {},
     "output_type": "execute_result"
    }
   ],
   "source": [
    "kmeans(data, 2)"
   ]
  }
 ],
 "metadata": {
  "kernelspec": {
   "display_name": "Python 3",
   "language": "python",
   "name": "python3"
  },
  "language_info": {
   "codemirror_mode": {
    "name": "ipython",
    "version": 3
   },
   "file_extension": ".py",
   "mimetype": "text/x-python",
   "name": "python",
   "nbconvert_exporter": "python",
   "pygments_lexer": "ipython3",
   "version": "3.7.6"
  }
 },
 "nbformat": 4,
 "nbformat_minor": 2
}
